{
  "cells": [
    {
      "cell_type": "code",
      "execution_count": null,
      "metadata": {
        "colab": {
          "base_uri": "https://localhost:8080/"
        },
        "id": "pPE_QXFImrcU",
        "outputId": "f8538441-3b12-493a-9a68-ffdc5148f0b8"
      },
      "outputs": [],
      "source": [
        "import pandas as pd\n",
        "from selenium import webdriver\n",
        "from selenium.webdriver.common.by import By\n",
        "from selenium.webdriver.common.keys import Keys\n",
        "import time\n",
        "import urllib\n",
        "from math import *"
      ]
    },
    {
      "cell_type": "code",
      "execution_count": null,
      "metadata": {
        "id": "6IOaJLCNsGq5"
      },
      "outputs": [],
      "source": [
        "df_Contatos = pd.read_csv('book.csv')\n",
        "df_Contatos"
      ]
    },
    {
      "cell_type": "code",
      "execution_count": null,
      "metadata": {},
      "outputs": [],
      "source": [
        "contatos = df_Contatos[(df_Contatos['Numero de Telefone'].notna())]\n",
        "contatos = contatos.reset_index()\n",
        "contatos.pop('index')\n",
        "contatos"
      ]
    },
    {
      "cell_type": "code",
      "execution_count": null,
      "metadata": {
        "id": "ZDSdGhqb3DeF"
      },
      "outputs": [],
      "source": [
        "for i in range(len(contatos)):\n",
        "      numero = str(contatos.loc[i][0])\n",
        "      numero = numero.replace('(','')\n",
        "      numero = numero.replace(')','')\n",
        "      numero = numero.replace('.','')\n",
        "      numero = numero.replace(' ','')\n",
        "      numero = numero.replace('-','')\n",
        "      if(len(numero)== 10):\n",
        "            number_list = list(numero)\n",
        "            number_list.insert(2,\"9\")\n",
        "            numero = ''.join(map(str,number_list))\n",
        "      if(len(numero) != 11):\n",
        "            print(f\"O numero do contado {contatos.loc[i][1]} com ID numero {i} esta com erro {numero}.\")\n",
        "      else:\n",
        "            contatos.loc[i][0] = (\"+55\" + numero)\n",
        "      contatos.loc[i][1] = (contatos.loc[i][1].title())"
      ]
    },
    {
      "cell_type": "code",
      "execution_count": null,
      "metadata": {
        "id": "2rsW0Vl-5Ecj"
      },
      "outputs": [],
      "source": [
        "file = open(\"mensage.txt\")\n",
        "Mensagem = file.read()"
      ]
    },
    {
      "cell_type": "code",
      "execution_count": null,
      "metadata": {
        "id": "c--9TkUh-EMs"
      },
      "outputs": [],
      "source": [
        "contatos['Mensagem'] = ' '\n",
        "contatos['Link'] = ' '\n",
        "for i in range(len(contatos)):\n",
        "  Nome = contatos.loc[i][1]\n",
        "  contatos.loc[i][2] = (Mensagem.format(Nome))\n",
        "  texto = urllib.parse.quote(contatos.loc[i][2])\n",
        "  contatos.loc[i][3] = f\"https://web.whatsapp.com/send?phone=55{contatos.loc[i][0]}&text={texto}\""
      ]
    },
    {
      "cell_type": "code",
      "execution_count": null,
      "metadata": {},
      "outputs": [],
      "source": [
        "contatos"
      ]
    },
    {
      "cell_type": "code",
      "execution_count": null,
      "metadata": {
        "colab": {
          "base_uri": "https://localhost:8080/",
          "height": 419
        },
        "id": "rg8Ve6ruDbJr",
        "outputId": "92d7deda-aef7-4345-e4ce-af861ff8e7d2"
      },
      "outputs": [],
      "source": [
        "browser = webdriver.Safari()\n",
        "try:\n",
        "     for i in range(len(contatos)):\n",
        "          browser.get(contatos.loc[i][3])\n",
        "          while len(browser.find_elements(by=By.ID , value=\"side\")) < 1:\n",
        "               time.sleep(1)\n",
        "          browser.implicitly_wait(30)\n",
        "          browser.find_element(by=By.XPATH, value='//*[@id=\"main\"]/footer/div[1]/div/span[2]/div/div[2]/div[1]/div/div[2]').send_keys(Keys.ESCAPE)\n",
        "          browser.find_element(by=By.XPATH, value='//*[@id=\"main\"]/footer/div[1]/div/span[2]/div/div[2]/div[1]/div/div[2]').send_keys(Keys.ENTER)\n",
        "          time.sleep(2)\n",
        "          print(f\"enviado para o contado numero {i} -- {contatos.loc[i][1]}\")\n",
        "     browser.quit()\n",
        "     print(\"Convites Enviados Corretamente\")\n",
        "except:\n",
        "     print(\"Ocorreu algum erro de execucao e nem todos os convites foram enviados, por gentileza tente novamente \")"
      ]
    },
    {
      "cell_type": "markdown",
      "metadata": {},
      "source": []
    }
  ],
  "metadata": {
    "colab": {
      "collapsed_sections": [],
      "name": "Automatiza_Envio_email_Convidados.ipynb",
      "provenance": []
    },
    "interpreter": {
      "hash": "aee8b7b246df8f9039afb4144a1f6fd8d2ca17a180786b69acc140d282b71a49"
    },
    "kernelspec": {
      "display_name": "Python 3.10.0 64-bit",
      "language": "python",
      "name": "python3"
    },
    "language_info": {
      "codemirror_mode": {
        "name": "ipython",
        "version": 3
      },
      "file_extension": ".py",
      "mimetype": "text/x-python",
      "name": "python",
      "nbconvert_exporter": "python",
      "pygments_lexer": "ipython3",
      "version": "3.10.0"
    }
  },
  "nbformat": 4,
  "nbformat_minor": 0
}
